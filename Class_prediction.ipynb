{
  "nbformat": 4,
  "nbformat_minor": 0,
  "metadata": {
    "colab": {
      "name": "Class_prediction.ipynb",
      "provenance": [],
      "authorship_tag": "ABX9TyOIE7B3w1GDLQERfMiHAty0",
      "include_colab_link": true
    },
    "kernelspec": {
      "name": "python3",
      "display_name": "Python 3"
    },
    "language_info": {
      "name": "python"
    },
    "accelerator": "GPU"
  },
  "cells": [
    {
      "cell_type": "markdown",
      "metadata": {
        "id": "view-in-github",
        "colab_type": "text"
      },
      "source": [
        "<a href=\"https://colab.research.google.com/github/ZenoZoldyck/Kaggle_competions/blob/main/Class_prediction.ipynb\" target=\"_parent\"><img src=\"https://colab.research.google.com/assets/colab-badge.svg\" alt=\"Open In Colab\"/></a>"
      ]
    },
    {
      "cell_type": "code",
      "metadata": {
        "colab": {
          "base_uri": "https://localhost:8080/",
          "height": 35
        },
        "id": "OLNA3KgnEqwV",
        "outputId": "86dbd717-4b17-424d-9a1b-29e9b36b587c"
      },
      "source": [
        "import tensorflow as tf\n",
        "import pandas as pd\n",
        "import numpy as np\n",
        "from sklearn.preprocessing import OneHotEncoder\n",
        "from sklearn.compose import make_column_transformer\n",
        "tf.__version__"
      ],
      "execution_count": 4,
      "outputs": [
        {
          "output_type": "execute_result",
          "data": {
            "application/vnd.google.colaboratory.intrinsic+json": {
              "type": "string"
            },
            "text/plain": [
              "'2.5.0'"
            ]
          },
          "metadata": {
            "tags": []
          },
          "execution_count": 4
        }
      ]
    },
    {
      "cell_type": "code",
      "metadata": {
        "id": "lIc3CSLJNTUn"
      },
      "source": [
        "train = pd.read_excel(\"/content/train.xlsx\")\n",
        "test = pd.read_csv(\"/content/test.csv\")"
      ],
      "execution_count": 3,
      "outputs": []
    },
    {
      "cell_type": "code",
      "metadata": {
        "colab": {
          "base_uri": "https://localhost:8080/",
          "height": 224
        },
        "id": "J2s8baHhOY9J",
        "outputId": "b6d08a23-38d9-4c10-b82c-69a6da232170"
      },
      "source": [
        "train.head()"
      ],
      "execution_count": 5,
      "outputs": [
        {
          "output_type": "execute_result",
          "data": {
            "text/html": [
              "<div>\n",
              "<style scoped>\n",
              "    .dataframe tbody tr th:only-of-type {\n",
              "        vertical-align: middle;\n",
              "    }\n",
              "\n",
              "    .dataframe tbody tr th {\n",
              "        vertical-align: top;\n",
              "    }\n",
              "\n",
              "    .dataframe thead th {\n",
              "        text-align: right;\n",
              "    }\n",
              "</style>\n",
              "<table border=\"1\" class=\"dataframe\">\n",
              "  <thead>\n",
              "    <tr style=\"text-align: right;\">\n",
              "      <th></th>\n",
              "      <th>id</th>\n",
              "      <th>feature_0</th>\n",
              "      <th>feature_1</th>\n",
              "      <th>feature_2</th>\n",
              "      <th>feature_3</th>\n",
              "      <th>feature_4</th>\n",
              "      <th>feature_5</th>\n",
              "      <th>feature_6</th>\n",
              "      <th>feature_7</th>\n",
              "      <th>feature_8</th>\n",
              "      <th>feature_9</th>\n",
              "      <th>feature_10</th>\n",
              "      <th>feature_11</th>\n",
              "      <th>feature_12</th>\n",
              "      <th>feature_13</th>\n",
              "      <th>feature_14</th>\n",
              "      <th>feature_15</th>\n",
              "      <th>feature_16</th>\n",
              "      <th>feature_17</th>\n",
              "      <th>feature_18</th>\n",
              "      <th>feature_19</th>\n",
              "      <th>feature_20</th>\n",
              "      <th>feature_21</th>\n",
              "      <th>feature_22</th>\n",
              "      <th>feature_23</th>\n",
              "      <th>feature_24</th>\n",
              "      <th>feature_25</th>\n",
              "      <th>feature_26</th>\n",
              "      <th>feature_27</th>\n",
              "      <th>feature_28</th>\n",
              "      <th>feature_29</th>\n",
              "      <th>feature_30</th>\n",
              "      <th>feature_31</th>\n",
              "      <th>feature_32</th>\n",
              "      <th>feature_33</th>\n",
              "      <th>feature_34</th>\n",
              "      <th>feature_35</th>\n",
              "      <th>feature_36</th>\n",
              "      <th>feature_37</th>\n",
              "      <th>feature_38</th>\n",
              "      <th>feature_39</th>\n",
              "      <th>feature_40</th>\n",
              "      <th>feature_41</th>\n",
              "      <th>feature_42</th>\n",
              "      <th>feature_43</th>\n",
              "      <th>feature_44</th>\n",
              "      <th>feature_45</th>\n",
              "      <th>feature_46</th>\n",
              "      <th>feature_47</th>\n",
              "      <th>feature_48</th>\n",
              "      <th>feature_49</th>\n",
              "      <th>target</th>\n",
              "    </tr>\n",
              "  </thead>\n",
              "  <tbody>\n",
              "    <tr>\n",
              "      <th>0</th>\n",
              "      <td>0</td>\n",
              "      <td>0</td>\n",
              "      <td>0</td>\n",
              "      <td>1</td>\n",
              "      <td>0</td>\n",
              "      <td>1</td>\n",
              "      <td>0</td>\n",
              "      <td>0</td>\n",
              "      <td>0</td>\n",
              "      <td>0</td>\n",
              "      <td>0</td>\n",
              "      <td>0</td>\n",
              "      <td>0</td>\n",
              "      <td>0</td>\n",
              "      <td>0</td>\n",
              "      <td>0</td>\n",
              "      <td>0</td>\n",
              "      <td>0</td>\n",
              "      <td>6</td>\n",
              "      <td>0</td>\n",
              "      <td>0</td>\n",
              "      <td>0</td>\n",
              "      <td>0</td>\n",
              "      <td>0</td>\n",
              "      <td>0</td>\n",
              "      <td>0</td>\n",
              "      <td>0</td>\n",
              "      <td>0</td>\n",
              "      <td>0</td>\n",
              "      <td>0</td>\n",
              "      <td>0</td>\n",
              "      <td>1</td>\n",
              "      <td>0</td>\n",
              "      <td>0</td>\n",
              "      <td>0</td>\n",
              "      <td>1</td>\n",
              "      <td>0</td>\n",
              "      <td>0</td>\n",
              "      <td>0</td>\n",
              "      <td>0</td>\n",
              "      <td>0</td>\n",
              "      <td>3</td>\n",
              "      <td>0</td>\n",
              "      <td>0</td>\n",
              "      <td>21</td>\n",
              "      <td>0</td>\n",
              "      <td>0</td>\n",
              "      <td>0</td>\n",
              "      <td>0</td>\n",
              "      <td>0</td>\n",
              "      <td>0</td>\n",
              "      <td>1</td>\n",
              "    </tr>\n",
              "    <tr>\n",
              "      <th>1</th>\n",
              "      <td>1</td>\n",
              "      <td>0</td>\n",
              "      <td>0</td>\n",
              "      <td>0</td>\n",
              "      <td>0</td>\n",
              "      <td>2</td>\n",
              "      <td>1</td>\n",
              "      <td>0</td>\n",
              "      <td>0</td>\n",
              "      <td>0</td>\n",
              "      <td>0</td>\n",
              "      <td>0</td>\n",
              "      <td>0</td>\n",
              "      <td>0</td>\n",
              "      <td>0</td>\n",
              "      <td>0</td>\n",
              "      <td>3</td>\n",
              "      <td>0</td>\n",
              "      <td>3</td>\n",
              "      <td>0</td>\n",
              "      <td>0</td>\n",
              "      <td>0</td>\n",
              "      <td>0</td>\n",
              "      <td>0</td>\n",
              "      <td>0</td>\n",
              "      <td>0</td>\n",
              "      <td>0</td>\n",
              "      <td>0</td>\n",
              "      <td>0</td>\n",
              "      <td>0</td>\n",
              "      <td>0</td>\n",
              "      <td>0</td>\n",
              "      <td>0</td>\n",
              "      <td>2</td>\n",
              "      <td>0</td>\n",
              "      <td>0</td>\n",
              "      <td>0</td>\n",
              "      <td>0</td>\n",
              "      <td>0</td>\n",
              "      <td>0</td>\n",
              "      <td>0</td>\n",
              "      <td>0</td>\n",
              "      <td>0</td>\n",
              "      <td>0</td>\n",
              "      <td>0</td>\n",
              "      <td>0</td>\n",
              "      <td>0</td>\n",
              "      <td>0</td>\n",
              "      <td>0</td>\n",
              "      <td>0</td>\n",
              "      <td>0</td>\n",
              "      <td>0</td>\n",
              "    </tr>\n",
              "    <tr>\n",
              "      <th>2</th>\n",
              "      <td>2</td>\n",
              "      <td>0</td>\n",
              "      <td>0</td>\n",
              "      <td>0</td>\n",
              "      <td>0</td>\n",
              "      <td>0</td>\n",
              "      <td>0</td>\n",
              "      <td>0</td>\n",
              "      <td>0</td>\n",
              "      <td>0</td>\n",
              "      <td>2</td>\n",
              "      <td>0</td>\n",
              "      <td>0</td>\n",
              "      <td>1</td>\n",
              "      <td>0</td>\n",
              "      <td>1</td>\n",
              "      <td>0</td>\n",
              "      <td>0</td>\n",
              "      <td>0</td>\n",
              "      <td>0</td>\n",
              "      <td>1</td>\n",
              "      <td>0</td>\n",
              "      <td>5</td>\n",
              "      <td>2</td>\n",
              "      <td>1</td>\n",
              "      <td>1</td>\n",
              "      <td>0</td>\n",
              "      <td>1</td>\n",
              "      <td>0</td>\n",
              "      <td>2</td>\n",
              "      <td>0</td>\n",
              "      <td>0</td>\n",
              "      <td>0</td>\n",
              "      <td>0</td>\n",
              "      <td>19</td>\n",
              "      <td>2</td>\n",
              "      <td>0</td>\n",
              "      <td>1</td>\n",
              "      <td>7</td>\n",
              "      <td>3</td>\n",
              "      <td>0</td>\n",
              "      <td>0</td>\n",
              "      <td>0</td>\n",
              "      <td>1</td>\n",
              "      <td>0</td>\n",
              "      <td>0</td>\n",
              "      <td>0</td>\n",
              "      <td>0</td>\n",
              "      <td>13</td>\n",
              "      <td>2</td>\n",
              "      <td>0</td>\n",
              "      <td>0</td>\n",
              "    </tr>\n",
              "    <tr>\n",
              "      <th>3</th>\n",
              "      <td>3</td>\n",
              "      <td>0</td>\n",
              "      <td>0</td>\n",
              "      <td>0</td>\n",
              "      <td>0</td>\n",
              "      <td>0</td>\n",
              "      <td>0</td>\n",
              "      <td>0</td>\n",
              "      <td>3</td>\n",
              "      <td>0</td>\n",
              "      <td>0</td>\n",
              "      <td>0</td>\n",
              "      <td>0</td>\n",
              "      <td>0</td>\n",
              "      <td>1</td>\n",
              "      <td>7</td>\n",
              "      <td>11</td>\n",
              "      <td>1</td>\n",
              "      <td>0</td>\n",
              "      <td>3</td>\n",
              "      <td>1</td>\n",
              "      <td>0</td>\n",
              "      <td>0</td>\n",
              "      <td>0</td>\n",
              "      <td>0</td>\n",
              "      <td>0</td>\n",
              "      <td>0</td>\n",
              "      <td>0</td>\n",
              "      <td>0</td>\n",
              "      <td>1</td>\n",
              "      <td>0</td>\n",
              "      <td>1</td>\n",
              "      <td>0</td>\n",
              "      <td>0</td>\n",
              "      <td>0</td>\n",
              "      <td>1</td>\n",
              "      <td>0</td>\n",
              "      <td>0</td>\n",
              "      <td>0</td>\n",
              "      <td>4</td>\n",
              "      <td>0</td>\n",
              "      <td>0</td>\n",
              "      <td>0</td>\n",
              "      <td>0</td>\n",
              "      <td>0</td>\n",
              "      <td>0</td>\n",
              "      <td>0</td>\n",
              "      <td>0</td>\n",
              "      <td>0</td>\n",
              "      <td>1</td>\n",
              "      <td>0</td>\n",
              "      <td>3</td>\n",
              "    </tr>\n",
              "    <tr>\n",
              "      <th>4</th>\n",
              "      <td>4</td>\n",
              "      <td>0</td>\n",
              "      <td>0</td>\n",
              "      <td>0</td>\n",
              "      <td>0</td>\n",
              "      <td>0</td>\n",
              "      <td>0</td>\n",
              "      <td>0</td>\n",
              "      <td>0</td>\n",
              "      <td>0</td>\n",
              "      <td>0</td>\n",
              "      <td>0</td>\n",
              "      <td>0</td>\n",
              "      <td>0</td>\n",
              "      <td>0</td>\n",
              "      <td>2</td>\n",
              "      <td>0</td>\n",
              "      <td>9</td>\n",
              "      <td>3</td>\n",
              "      <td>0</td>\n",
              "      <td>0</td>\n",
              "      <td>0</td>\n",
              "      <td>0</td>\n",
              "      <td>0</td>\n",
              "      <td>0</td>\n",
              "      <td>0</td>\n",
              "      <td>0</td>\n",
              "      <td>0</td>\n",
              "      <td>0</td>\n",
              "      <td>0</td>\n",
              "      <td>0</td>\n",
              "      <td>0</td>\n",
              "      <td>1</td>\n",
              "      <td>0</td>\n",
              "      <td>0</td>\n",
              "      <td>0</td>\n",
              "      <td>0</td>\n",
              "      <td>0</td>\n",
              "      <td>0</td>\n",
              "      <td>1</td>\n",
              "      <td>0</td>\n",
              "      <td>0</td>\n",
              "      <td>0</td>\n",
              "      <td>0</td>\n",
              "      <td>0</td>\n",
              "      <td>0</td>\n",
              "      <td>0</td>\n",
              "      <td>0</td>\n",
              "      <td>0</td>\n",
              "      <td>1</td>\n",
              "      <td>0</td>\n",
              "      <td>1</td>\n",
              "    </tr>\n",
              "  </tbody>\n",
              "</table>\n",
              "</div>"
            ],
            "text/plain": [
              "   id  feature_0  feature_1  ...  feature_48  feature_49  target\n",
              "0   0          0          0  ...           0           0       1\n",
              "1   1          0          0  ...           0           0       0\n",
              "2   2          0          0  ...           2           0       0\n",
              "3   3          0          0  ...           1           0       3\n",
              "4   4          0          0  ...           1           0       1\n",
              "\n",
              "[5 rows x 52 columns]"
            ]
          },
          "metadata": {
            "tags": []
          },
          "execution_count": 5
        }
      ]
    },
    {
      "cell_type": "code",
      "metadata": {
        "id": "WwcHQWVKN5Kc"
      },
      "source": [
        "train_data = train.drop([\"target\", \"id\"], axis = \"columns\")\n",
        "train_label = train[\"target\"]"
      ],
      "execution_count": 6,
      "outputs": []
    },
    {
      "cell_type": "code",
      "metadata": {
        "colab": {
          "base_uri": "https://localhost:8080/",
          "height": 224
        },
        "id": "BWfF7up8OsmN",
        "outputId": "5316bc1c-750c-4696-f23c-3c894f6a57d9"
      },
      "source": [
        "train_data.head()"
      ],
      "execution_count": 7,
      "outputs": [
        {
          "output_type": "execute_result",
          "data": {
            "text/html": [
              "<div>\n",
              "<style scoped>\n",
              "    .dataframe tbody tr th:only-of-type {\n",
              "        vertical-align: middle;\n",
              "    }\n",
              "\n",
              "    .dataframe tbody tr th {\n",
              "        vertical-align: top;\n",
              "    }\n",
              "\n",
              "    .dataframe thead th {\n",
              "        text-align: right;\n",
              "    }\n",
              "</style>\n",
              "<table border=\"1\" class=\"dataframe\">\n",
              "  <thead>\n",
              "    <tr style=\"text-align: right;\">\n",
              "      <th></th>\n",
              "      <th>feature_0</th>\n",
              "      <th>feature_1</th>\n",
              "      <th>feature_2</th>\n",
              "      <th>feature_3</th>\n",
              "      <th>feature_4</th>\n",
              "      <th>feature_5</th>\n",
              "      <th>feature_6</th>\n",
              "      <th>feature_7</th>\n",
              "      <th>feature_8</th>\n",
              "      <th>feature_9</th>\n",
              "      <th>feature_10</th>\n",
              "      <th>feature_11</th>\n",
              "      <th>feature_12</th>\n",
              "      <th>feature_13</th>\n",
              "      <th>feature_14</th>\n",
              "      <th>feature_15</th>\n",
              "      <th>feature_16</th>\n",
              "      <th>feature_17</th>\n",
              "      <th>feature_18</th>\n",
              "      <th>feature_19</th>\n",
              "      <th>feature_20</th>\n",
              "      <th>feature_21</th>\n",
              "      <th>feature_22</th>\n",
              "      <th>feature_23</th>\n",
              "      <th>feature_24</th>\n",
              "      <th>feature_25</th>\n",
              "      <th>feature_26</th>\n",
              "      <th>feature_27</th>\n",
              "      <th>feature_28</th>\n",
              "      <th>feature_29</th>\n",
              "      <th>feature_30</th>\n",
              "      <th>feature_31</th>\n",
              "      <th>feature_32</th>\n",
              "      <th>feature_33</th>\n",
              "      <th>feature_34</th>\n",
              "      <th>feature_35</th>\n",
              "      <th>feature_36</th>\n",
              "      <th>feature_37</th>\n",
              "      <th>feature_38</th>\n",
              "      <th>feature_39</th>\n",
              "      <th>feature_40</th>\n",
              "      <th>feature_41</th>\n",
              "      <th>feature_42</th>\n",
              "      <th>feature_43</th>\n",
              "      <th>feature_44</th>\n",
              "      <th>feature_45</th>\n",
              "      <th>feature_46</th>\n",
              "      <th>feature_47</th>\n",
              "      <th>feature_48</th>\n",
              "      <th>feature_49</th>\n",
              "    </tr>\n",
              "  </thead>\n",
              "  <tbody>\n",
              "    <tr>\n",
              "      <th>0</th>\n",
              "      <td>0</td>\n",
              "      <td>0</td>\n",
              "      <td>1</td>\n",
              "      <td>0</td>\n",
              "      <td>1</td>\n",
              "      <td>0</td>\n",
              "      <td>0</td>\n",
              "      <td>0</td>\n",
              "      <td>0</td>\n",
              "      <td>0</td>\n",
              "      <td>0</td>\n",
              "      <td>0</td>\n",
              "      <td>0</td>\n",
              "      <td>0</td>\n",
              "      <td>0</td>\n",
              "      <td>0</td>\n",
              "      <td>0</td>\n",
              "      <td>6</td>\n",
              "      <td>0</td>\n",
              "      <td>0</td>\n",
              "      <td>0</td>\n",
              "      <td>0</td>\n",
              "      <td>0</td>\n",
              "      <td>0</td>\n",
              "      <td>0</td>\n",
              "      <td>0</td>\n",
              "      <td>0</td>\n",
              "      <td>0</td>\n",
              "      <td>0</td>\n",
              "      <td>0</td>\n",
              "      <td>1</td>\n",
              "      <td>0</td>\n",
              "      <td>0</td>\n",
              "      <td>0</td>\n",
              "      <td>1</td>\n",
              "      <td>0</td>\n",
              "      <td>0</td>\n",
              "      <td>0</td>\n",
              "      <td>0</td>\n",
              "      <td>0</td>\n",
              "      <td>3</td>\n",
              "      <td>0</td>\n",
              "      <td>0</td>\n",
              "      <td>21</td>\n",
              "      <td>0</td>\n",
              "      <td>0</td>\n",
              "      <td>0</td>\n",
              "      <td>0</td>\n",
              "      <td>0</td>\n",
              "      <td>0</td>\n",
              "    </tr>\n",
              "    <tr>\n",
              "      <th>1</th>\n",
              "      <td>0</td>\n",
              "      <td>0</td>\n",
              "      <td>0</td>\n",
              "      <td>0</td>\n",
              "      <td>2</td>\n",
              "      <td>1</td>\n",
              "      <td>0</td>\n",
              "      <td>0</td>\n",
              "      <td>0</td>\n",
              "      <td>0</td>\n",
              "      <td>0</td>\n",
              "      <td>0</td>\n",
              "      <td>0</td>\n",
              "      <td>0</td>\n",
              "      <td>0</td>\n",
              "      <td>3</td>\n",
              "      <td>0</td>\n",
              "      <td>3</td>\n",
              "      <td>0</td>\n",
              "      <td>0</td>\n",
              "      <td>0</td>\n",
              "      <td>0</td>\n",
              "      <td>0</td>\n",
              "      <td>0</td>\n",
              "      <td>0</td>\n",
              "      <td>0</td>\n",
              "      <td>0</td>\n",
              "      <td>0</td>\n",
              "      <td>0</td>\n",
              "      <td>0</td>\n",
              "      <td>0</td>\n",
              "      <td>0</td>\n",
              "      <td>2</td>\n",
              "      <td>0</td>\n",
              "      <td>0</td>\n",
              "      <td>0</td>\n",
              "      <td>0</td>\n",
              "      <td>0</td>\n",
              "      <td>0</td>\n",
              "      <td>0</td>\n",
              "      <td>0</td>\n",
              "      <td>0</td>\n",
              "      <td>0</td>\n",
              "      <td>0</td>\n",
              "      <td>0</td>\n",
              "      <td>0</td>\n",
              "      <td>0</td>\n",
              "      <td>0</td>\n",
              "      <td>0</td>\n",
              "      <td>0</td>\n",
              "    </tr>\n",
              "    <tr>\n",
              "      <th>2</th>\n",
              "      <td>0</td>\n",
              "      <td>0</td>\n",
              "      <td>0</td>\n",
              "      <td>0</td>\n",
              "      <td>0</td>\n",
              "      <td>0</td>\n",
              "      <td>0</td>\n",
              "      <td>0</td>\n",
              "      <td>0</td>\n",
              "      <td>2</td>\n",
              "      <td>0</td>\n",
              "      <td>0</td>\n",
              "      <td>1</td>\n",
              "      <td>0</td>\n",
              "      <td>1</td>\n",
              "      <td>0</td>\n",
              "      <td>0</td>\n",
              "      <td>0</td>\n",
              "      <td>0</td>\n",
              "      <td>1</td>\n",
              "      <td>0</td>\n",
              "      <td>5</td>\n",
              "      <td>2</td>\n",
              "      <td>1</td>\n",
              "      <td>1</td>\n",
              "      <td>0</td>\n",
              "      <td>1</td>\n",
              "      <td>0</td>\n",
              "      <td>2</td>\n",
              "      <td>0</td>\n",
              "      <td>0</td>\n",
              "      <td>0</td>\n",
              "      <td>0</td>\n",
              "      <td>19</td>\n",
              "      <td>2</td>\n",
              "      <td>0</td>\n",
              "      <td>1</td>\n",
              "      <td>7</td>\n",
              "      <td>3</td>\n",
              "      <td>0</td>\n",
              "      <td>0</td>\n",
              "      <td>0</td>\n",
              "      <td>1</td>\n",
              "      <td>0</td>\n",
              "      <td>0</td>\n",
              "      <td>0</td>\n",
              "      <td>0</td>\n",
              "      <td>13</td>\n",
              "      <td>2</td>\n",
              "      <td>0</td>\n",
              "    </tr>\n",
              "    <tr>\n",
              "      <th>3</th>\n",
              "      <td>0</td>\n",
              "      <td>0</td>\n",
              "      <td>0</td>\n",
              "      <td>0</td>\n",
              "      <td>0</td>\n",
              "      <td>0</td>\n",
              "      <td>0</td>\n",
              "      <td>3</td>\n",
              "      <td>0</td>\n",
              "      <td>0</td>\n",
              "      <td>0</td>\n",
              "      <td>0</td>\n",
              "      <td>0</td>\n",
              "      <td>1</td>\n",
              "      <td>7</td>\n",
              "      <td>11</td>\n",
              "      <td>1</td>\n",
              "      <td>0</td>\n",
              "      <td>3</td>\n",
              "      <td>1</td>\n",
              "      <td>0</td>\n",
              "      <td>0</td>\n",
              "      <td>0</td>\n",
              "      <td>0</td>\n",
              "      <td>0</td>\n",
              "      <td>0</td>\n",
              "      <td>0</td>\n",
              "      <td>0</td>\n",
              "      <td>1</td>\n",
              "      <td>0</td>\n",
              "      <td>1</td>\n",
              "      <td>0</td>\n",
              "      <td>0</td>\n",
              "      <td>0</td>\n",
              "      <td>1</td>\n",
              "      <td>0</td>\n",
              "      <td>0</td>\n",
              "      <td>0</td>\n",
              "      <td>4</td>\n",
              "      <td>0</td>\n",
              "      <td>0</td>\n",
              "      <td>0</td>\n",
              "      <td>0</td>\n",
              "      <td>0</td>\n",
              "      <td>0</td>\n",
              "      <td>0</td>\n",
              "      <td>0</td>\n",
              "      <td>0</td>\n",
              "      <td>1</td>\n",
              "      <td>0</td>\n",
              "    </tr>\n",
              "    <tr>\n",
              "      <th>4</th>\n",
              "      <td>0</td>\n",
              "      <td>0</td>\n",
              "      <td>0</td>\n",
              "      <td>0</td>\n",
              "      <td>0</td>\n",
              "      <td>0</td>\n",
              "      <td>0</td>\n",
              "      <td>0</td>\n",
              "      <td>0</td>\n",
              "      <td>0</td>\n",
              "      <td>0</td>\n",
              "      <td>0</td>\n",
              "      <td>0</td>\n",
              "      <td>0</td>\n",
              "      <td>2</td>\n",
              "      <td>0</td>\n",
              "      <td>9</td>\n",
              "      <td>3</td>\n",
              "      <td>0</td>\n",
              "      <td>0</td>\n",
              "      <td>0</td>\n",
              "      <td>0</td>\n",
              "      <td>0</td>\n",
              "      <td>0</td>\n",
              "      <td>0</td>\n",
              "      <td>0</td>\n",
              "      <td>0</td>\n",
              "      <td>0</td>\n",
              "      <td>0</td>\n",
              "      <td>0</td>\n",
              "      <td>0</td>\n",
              "      <td>1</td>\n",
              "      <td>0</td>\n",
              "      <td>0</td>\n",
              "      <td>0</td>\n",
              "      <td>0</td>\n",
              "      <td>0</td>\n",
              "      <td>0</td>\n",
              "      <td>1</td>\n",
              "      <td>0</td>\n",
              "      <td>0</td>\n",
              "      <td>0</td>\n",
              "      <td>0</td>\n",
              "      <td>0</td>\n",
              "      <td>0</td>\n",
              "      <td>0</td>\n",
              "      <td>0</td>\n",
              "      <td>0</td>\n",
              "      <td>1</td>\n",
              "      <td>0</td>\n",
              "    </tr>\n",
              "  </tbody>\n",
              "</table>\n",
              "</div>"
            ],
            "text/plain": [
              "   feature_0  feature_1  feature_2  ...  feature_47  feature_48  feature_49\n",
              "0          0          0          1  ...           0           0           0\n",
              "1          0          0          0  ...           0           0           0\n",
              "2          0          0          0  ...          13           2           0\n",
              "3          0          0          0  ...           0           1           0\n",
              "4          0          0          0  ...           0           1           0\n",
              "\n",
              "[5 rows x 50 columns]"
            ]
          },
          "metadata": {
            "tags": []
          },
          "execution_count": 7
        }
      ]
    },
    {
      "cell_type": "code",
      "metadata": {
        "colab": {
          "base_uri": "https://localhost:8080/"
        },
        "id": "A_GWOMwePLg-",
        "outputId": "e35199b3-3ed6-472f-fa36-134d94567b08"
      },
      "source": [
        "train_label.head()"
      ],
      "execution_count": 8,
      "outputs": [
        {
          "output_type": "execute_result",
          "data": {
            "text/plain": [
              "0    1\n",
              "1    0\n",
              "2    0\n",
              "3    3\n",
              "4    1\n",
              "Name: target, dtype: int64"
            ]
          },
          "metadata": {
            "tags": []
          },
          "execution_count": 8
        }
      ]
    },
    {
      "cell_type": "code",
      "metadata": {
        "id": "bDy_qNiOQWFz"
      },
      "source": [
        "train_data = np.array(train_data)\n",
        "train_label_1 = np.array(train_label)"
      ],
      "execution_count": 10,
      "outputs": []
    },
    {
      "cell_type": "code",
      "metadata": {
        "colab": {
          "base_uri": "https://localhost:8080/"
        },
        "id": "nxHXboQkpDi2",
        "outputId": "202d33d8-a400-4c02-9c5c-7916d0e80ac6"
      },
      "source": [
        "train_label_1[2].shape"
      ],
      "execution_count": 25,
      "outputs": [
        {
          "output_type": "execute_result",
          "data": {
            "text/plain": [
              "()"
            ]
          },
          "metadata": {
            "tags": []
          },
          "execution_count": 25
        }
      ]
    },
    {
      "cell_type": "code",
      "metadata": {
        "id": "f2Vn1ExDPPsG"
      },
      "source": [
        "train_label = tf.one_hot(train_label_1, depth = 4, axis = -1)"
      ],
      "execution_count": 11,
      "outputs": []
    },
    {
      "cell_type": "code",
      "metadata": {
        "colab": {
          "base_uri": "https://localhost:8080/"
        },
        "id": "_TUC-lIQUa-i",
        "outputId": "fb48d26c-dad1-48c7-e22c-c64d946c2dc1"
      },
      "source": [
        "train_data.shape, train_label.shape"
      ],
      "execution_count": 12,
      "outputs": [
        {
          "output_type": "execute_result",
          "data": {
            "text/plain": [
              "((100000, 50), TensorShape([100000, 4]))"
            ]
          },
          "metadata": {
            "tags": []
          },
          "execution_count": 12
        }
      ]
    },
    {
      "cell_type": "code",
      "metadata": {
        "colab": {
          "base_uri": "https://localhost:8080/"
        },
        "id": "j125vk9lkLNM",
        "outputId": "d524366c-9174-4832-f9e5-6860567fabf2"
      },
      "source": [
        "train_label[0]"
      ],
      "execution_count": 21,
      "outputs": [
        {
          "output_type": "execute_result",
          "data": {
            "text/plain": [
              "<tf.Tensor: shape=(4,), dtype=float32, numpy=array([0., 1., 0., 0.], dtype=float32)>"
            ]
          },
          "metadata": {
            "tags": []
          },
          "execution_count": 21
        }
      ]
    },
    {
      "cell_type": "code",
      "metadata": {
        "id": "pk1BpwnwVbgr"
      },
      "source": [
        "X_train, y_train, X_test, y_test = train_data[:90000], train_label[:90000], train_data[90000:], train_label[90000:]"
      ],
      "execution_count": 29,
      "outputs": []
    },
    {
      "cell_type": "code",
      "metadata": {
        "colab": {
          "base_uri": "https://localhost:8080/"
        },
        "id": "WNUi6NVdUlPV",
        "outputId": "f1d7aa26-70ec-46d6-b445-102e5302dcd8"
      },
      "source": [
        "# time for model building\n",
        "model_7 = tf.keras.Sequential([\n",
        "   tf.keras.layers.Dense(32, activation = \"relu\"),\n",
        "   tf.keras.layers.Dropout(0.2),\n",
        "   tf.keras.layers.Dense(64, activation = \"relu\"),\n",
        "   tf.keras.layers.Dropout(0.2),\n",
        "   tf.keras.layers.Dense(32, activation = \"relu\"),\n",
        "   tf.keras.layers.Dense(4, activation = \"softmax\")                          \n",
        "])\n",
        "\n",
        "model_7.compile(loss = tf.keras.losses.mse,\n",
        "              optimizer = tf.keras.optimizers.Adam(),\n",
        "              metrics = [\"accuracy\"])\n",
        "history = model_7.fit(X_train, y_train, epochs = 75, validation_data = (X_test, y_test))"
      ],
      "execution_count": 48,
      "outputs": [
        {
          "output_type": "stream",
          "text": [
            "Epoch 1/75\n",
            "2813/2813 [==============================] - 8s 3ms/step - loss: 0.1527 - accuracy: 0.5720 - val_loss: 0.1481 - val_accuracy: 0.5850\n",
            "Epoch 2/75\n",
            "2813/2813 [==============================] - 8s 3ms/step - loss: 0.1500 - accuracy: 0.5738 - val_loss: 0.1478 - val_accuracy: 0.5852\n",
            "Epoch 3/75\n",
            "2813/2813 [==============================] - 7s 3ms/step - loss: 0.1495 - accuracy: 0.5739 - val_loss: 0.1470 - val_accuracy: 0.5856\n",
            "Epoch 4/75\n",
            "2813/2813 [==============================] - 7s 3ms/step - loss: 0.1492 - accuracy: 0.5740 - val_loss: 0.1469 - val_accuracy: 0.5855\n",
            "Epoch 5/75\n",
            "2813/2813 [==============================] - 7s 3ms/step - loss: 0.1489 - accuracy: 0.5744 - val_loss: 0.1467 - val_accuracy: 0.5849\n",
            "Epoch 6/75\n",
            "2813/2813 [==============================] - 7s 3ms/step - loss: 0.1487 - accuracy: 0.5742 - val_loss: 0.1466 - val_accuracy: 0.5869\n",
            "Epoch 7/75\n",
            "2813/2813 [==============================] - 7s 3ms/step - loss: 0.1485 - accuracy: 0.5748 - val_loss: 0.1465 - val_accuracy: 0.5852\n",
            "Epoch 8/75\n",
            "2813/2813 [==============================] - 8s 3ms/step - loss: 0.1484 - accuracy: 0.5748 - val_loss: 0.1464 - val_accuracy: 0.5857\n",
            "Epoch 9/75\n",
            "2813/2813 [==============================] - 7s 3ms/step - loss: 0.1482 - accuracy: 0.5750 - val_loss: 0.1464 - val_accuracy: 0.5856\n",
            "Epoch 10/75\n",
            "2813/2813 [==============================] - 7s 3ms/step - loss: 0.1481 - accuracy: 0.5754 - val_loss: 0.1464 - val_accuracy: 0.5851\n",
            "Epoch 11/75\n",
            "2813/2813 [==============================] - 7s 3ms/step - loss: 0.1479 - accuracy: 0.5756 - val_loss: 0.1463 - val_accuracy: 0.5862\n",
            "Epoch 12/75\n",
            "2813/2813 [==============================] - 7s 3ms/step - loss: 0.1479 - accuracy: 0.5756 - val_loss: 0.1462 - val_accuracy: 0.5859\n",
            "Epoch 13/75\n",
            "2813/2813 [==============================] - 7s 3ms/step - loss: 0.1478 - accuracy: 0.5763 - val_loss: 0.1464 - val_accuracy: 0.5873\n",
            "Epoch 14/75\n",
            "2813/2813 [==============================] - 7s 3ms/step - loss: 0.1477 - accuracy: 0.5760 - val_loss: 0.1463 - val_accuracy: 0.5860\n",
            "Epoch 15/75\n",
            "2813/2813 [==============================] - 7s 3ms/step - loss: 0.1476 - accuracy: 0.5760 - val_loss: 0.1464 - val_accuracy: 0.5863\n",
            "Epoch 16/75\n",
            "2813/2813 [==============================] - 7s 3ms/step - loss: 0.1474 - accuracy: 0.5769 - val_loss: 0.1461 - val_accuracy: 0.5863\n",
            "Epoch 17/75\n",
            "2813/2813 [==============================] - 8s 3ms/step - loss: 0.1474 - accuracy: 0.5766 - val_loss: 0.1462 - val_accuracy: 0.5859\n",
            "Epoch 18/75\n",
            "2813/2813 [==============================] - 7s 3ms/step - loss: 0.1474 - accuracy: 0.5766 - val_loss: 0.1462 - val_accuracy: 0.5866\n",
            "Epoch 19/75\n",
            "2813/2813 [==============================] - 7s 3ms/step - loss: 0.1474 - accuracy: 0.5766 - val_loss: 0.1462 - val_accuracy: 0.5853\n",
            "Epoch 20/75\n",
            "2813/2813 [==============================] - 7s 3ms/step - loss: 0.1472 - accuracy: 0.5769 - val_loss: 0.1462 - val_accuracy: 0.5856\n",
            "Epoch 21/75\n",
            "2813/2813 [==============================] - 7s 3ms/step - loss: 0.1472 - accuracy: 0.5775 - val_loss: 0.1460 - val_accuracy: 0.5869\n",
            "Epoch 22/75\n",
            "2813/2813 [==============================] - 7s 3ms/step - loss: 0.1472 - accuracy: 0.5775 - val_loss: 0.1464 - val_accuracy: 0.5859\n",
            "Epoch 23/75\n",
            "2813/2813 [==============================] - 7s 3ms/step - loss: 0.1472 - accuracy: 0.5773 - val_loss: 0.1464 - val_accuracy: 0.5850\n",
            "Epoch 24/75\n",
            "2813/2813 [==============================] - 7s 3ms/step - loss: 0.1471 - accuracy: 0.5776 - val_loss: 0.1462 - val_accuracy: 0.5854\n",
            "Epoch 25/75\n",
            "2813/2813 [==============================] - 7s 3ms/step - loss: 0.1468 - accuracy: 0.5783 - val_loss: 0.1462 - val_accuracy: 0.5856\n",
            "Epoch 26/75\n",
            "2813/2813 [==============================] - 8s 3ms/step - loss: 0.1470 - accuracy: 0.5787 - val_loss: 0.1464 - val_accuracy: 0.5848\n",
            "Epoch 27/75\n",
            "2813/2813 [==============================] - 7s 3ms/step - loss: 0.1469 - accuracy: 0.5779 - val_loss: 0.1462 - val_accuracy: 0.5849\n",
            "Epoch 28/75\n",
            "2813/2813 [==============================] - 8s 3ms/step - loss: 0.1469 - accuracy: 0.5779 - val_loss: 0.1465 - val_accuracy: 0.5851\n",
            "Epoch 29/75\n",
            "2813/2813 [==============================] - 7s 3ms/step - loss: 0.1469 - accuracy: 0.5785 - val_loss: 0.1462 - val_accuracy: 0.5853\n",
            "Epoch 30/75\n",
            "2813/2813 [==============================] - 7s 3ms/step - loss: 0.1469 - accuracy: 0.5788 - val_loss: 0.1464 - val_accuracy: 0.5851\n",
            "Epoch 31/75\n",
            "2813/2813 [==============================] - 7s 3ms/step - loss: 0.1468 - accuracy: 0.5784 - val_loss: 0.1462 - val_accuracy: 0.5850\n",
            "Epoch 32/75\n",
            "2813/2813 [==============================] - 7s 3ms/step - loss: 0.1468 - accuracy: 0.5787 - val_loss: 0.1464 - val_accuracy: 0.5846\n",
            "Epoch 33/75\n",
            "2813/2813 [==============================] - 7s 3ms/step - loss: 0.1468 - accuracy: 0.5797 - val_loss: 0.1464 - val_accuracy: 0.5852\n",
            "Epoch 34/75\n",
            "2813/2813 [==============================] - 7s 3ms/step - loss: 0.1467 - accuracy: 0.5790 - val_loss: 0.1462 - val_accuracy: 0.5846\n",
            "Epoch 35/75\n",
            "2813/2813 [==============================] - 7s 3ms/step - loss: 0.1467 - accuracy: 0.5791 - val_loss: 0.1465 - val_accuracy: 0.5839\n",
            "Epoch 36/75\n",
            "2813/2813 [==============================] - 7s 3ms/step - loss: 0.1466 - accuracy: 0.5789 - val_loss: 0.1465 - val_accuracy: 0.5845\n",
            "Epoch 37/75\n",
            "2813/2813 [==============================] - 7s 3ms/step - loss: 0.1467 - accuracy: 0.5792 - val_loss: 0.1461 - val_accuracy: 0.5856\n",
            "Epoch 38/75\n",
            "2813/2813 [==============================] - 8s 3ms/step - loss: 0.1467 - accuracy: 0.5791 - val_loss: 0.1463 - val_accuracy: 0.5853\n",
            "Epoch 39/75\n",
            "2813/2813 [==============================] - 8s 3ms/step - loss: 0.1465 - accuracy: 0.5801 - val_loss: 0.1464 - val_accuracy: 0.5848\n",
            "Epoch 40/75\n",
            "2813/2813 [==============================] - 8s 3ms/step - loss: 0.1466 - accuracy: 0.5794 - val_loss: 0.1464 - val_accuracy: 0.5830\n",
            "Epoch 41/75\n",
            "2813/2813 [==============================] - 7s 3ms/step - loss: 0.1465 - accuracy: 0.5796 - val_loss: 0.1462 - val_accuracy: 0.5837\n",
            "Epoch 42/75\n",
            "2813/2813 [==============================] - 7s 3ms/step - loss: 0.1466 - accuracy: 0.5800 - val_loss: 0.1460 - val_accuracy: 0.5847\n",
            "Epoch 43/75\n",
            "2813/2813 [==============================] - 7s 3ms/step - loss: 0.1465 - accuracy: 0.5796 - val_loss: 0.1462 - val_accuracy: 0.5838\n",
            "Epoch 44/75\n",
            "2813/2813 [==============================] - 7s 3ms/step - loss: 0.1465 - accuracy: 0.5799 - val_loss: 0.1462 - val_accuracy: 0.5854\n",
            "Epoch 45/75\n",
            "2813/2813 [==============================] - 7s 3ms/step - loss: 0.1466 - accuracy: 0.5793 - val_loss: 0.1465 - val_accuracy: 0.5838\n",
            "Epoch 46/75\n",
            "2813/2813 [==============================] - 8s 3ms/step - loss: 0.1465 - accuracy: 0.5802 - val_loss: 0.1465 - val_accuracy: 0.5832\n",
            "Epoch 47/75\n",
            "2813/2813 [==============================] - 7s 3ms/step - loss: 0.1464 - accuracy: 0.5802 - val_loss: 0.1463 - val_accuracy: 0.5845\n",
            "Epoch 48/75\n",
            "2813/2813 [==============================] - 7s 3ms/step - loss: 0.1465 - accuracy: 0.5804 - val_loss: 0.1461 - val_accuracy: 0.5839\n",
            "Epoch 49/75\n",
            "2813/2813 [==============================] - 7s 3ms/step - loss: 0.1464 - accuracy: 0.5797 - val_loss: 0.1465 - val_accuracy: 0.5843\n",
            "Epoch 50/75\n",
            "2813/2813 [==============================] - 7s 3ms/step - loss: 0.1465 - accuracy: 0.5800 - val_loss: 0.1467 - val_accuracy: 0.5811\n",
            "Epoch 51/75\n",
            "2813/2813 [==============================] - 7s 3ms/step - loss: 0.1463 - accuracy: 0.5799 - val_loss: 0.1463 - val_accuracy: 0.5840\n",
            "Epoch 52/75\n",
            "2813/2813 [==============================] - 7s 3ms/step - loss: 0.1462 - accuracy: 0.5805 - val_loss: 0.1465 - val_accuracy: 0.5834\n",
            "Epoch 53/75\n",
            "2813/2813 [==============================] - 8s 3ms/step - loss: 0.1464 - accuracy: 0.5800 - val_loss: 0.1466 - val_accuracy: 0.5850\n",
            "Epoch 54/75\n",
            "2813/2813 [==============================] - 7s 3ms/step - loss: 0.1463 - accuracy: 0.5802 - val_loss: 0.1466 - val_accuracy: 0.5847\n",
            "Epoch 55/75\n",
            "2813/2813 [==============================] - 7s 3ms/step - loss: 0.1463 - accuracy: 0.5805 - val_loss: 0.1464 - val_accuracy: 0.5849\n",
            "Epoch 56/75\n",
            "2813/2813 [==============================] - 7s 3ms/step - loss: 0.1463 - accuracy: 0.5803 - val_loss: 0.1464 - val_accuracy: 0.5837\n",
            "Epoch 57/75\n",
            "2813/2813 [==============================] - 7s 3ms/step - loss: 0.1462 - accuracy: 0.5806 - val_loss: 0.1464 - val_accuracy: 0.5837\n",
            "Epoch 58/75\n",
            "2813/2813 [==============================] - 7s 3ms/step - loss: 0.1463 - accuracy: 0.5807 - val_loss: 0.1466 - val_accuracy: 0.5831\n",
            "Epoch 59/75\n",
            "2813/2813 [==============================] - 7s 3ms/step - loss: 0.1462 - accuracy: 0.5802 - val_loss: 0.1466 - val_accuracy: 0.5817\n",
            "Epoch 60/75\n",
            "2813/2813 [==============================] - 8s 3ms/step - loss: 0.1462 - accuracy: 0.5805 - val_loss: 0.1465 - val_accuracy: 0.5836\n",
            "Epoch 61/75\n",
            "2813/2813 [==============================] - 7s 3ms/step - loss: 0.1462 - accuracy: 0.5811 - val_loss: 0.1467 - val_accuracy: 0.5818\n",
            "Epoch 62/75\n",
            "2813/2813 [==============================] - 8s 3ms/step - loss: 0.1462 - accuracy: 0.5804 - val_loss: 0.1464 - val_accuracy: 0.5855\n",
            "Epoch 63/75\n",
            "2813/2813 [==============================] - 8s 3ms/step - loss: 0.1462 - accuracy: 0.5808 - val_loss: 0.1467 - val_accuracy: 0.5839\n",
            "Epoch 64/75\n",
            "2813/2813 [==============================] - 7s 3ms/step - loss: 0.1462 - accuracy: 0.5802 - val_loss: 0.1467 - val_accuracy: 0.5836\n",
            "Epoch 65/75\n",
            "2813/2813 [==============================] - 7s 3ms/step - loss: 0.1461 - accuracy: 0.5807 - val_loss: 0.1466 - val_accuracy: 0.5842\n",
            "Epoch 66/75\n",
            "2813/2813 [==============================] - 8s 3ms/step - loss: 0.1461 - accuracy: 0.5812 - val_loss: 0.1467 - val_accuracy: 0.5826\n",
            "Epoch 67/75\n",
            "2813/2813 [==============================] - 7s 3ms/step - loss: 0.1461 - accuracy: 0.5808 - val_loss: 0.1467 - val_accuracy: 0.5827\n",
            "Epoch 68/75\n",
            "2813/2813 [==============================] - 7s 3ms/step - loss: 0.1460 - accuracy: 0.5818 - val_loss: 0.1465 - val_accuracy: 0.5827\n",
            "Epoch 69/75\n",
            "2813/2813 [==============================] - 8s 3ms/step - loss: 0.1462 - accuracy: 0.5815 - val_loss: 0.1465 - val_accuracy: 0.5837\n",
            "Epoch 70/75\n",
            "2813/2813 [==============================] - 8s 3ms/step - loss: 0.1461 - accuracy: 0.5809 - val_loss: 0.1466 - val_accuracy: 0.5832\n",
            "Epoch 71/75\n",
            "2813/2813 [==============================] - 7s 3ms/step - loss: 0.1460 - accuracy: 0.5817 - val_loss: 0.1468 - val_accuracy: 0.5819\n",
            "Epoch 72/75\n",
            "2813/2813 [==============================] - 7s 3ms/step - loss: 0.1461 - accuracy: 0.5810 - val_loss: 0.1466 - val_accuracy: 0.5844\n",
            "Epoch 73/75\n",
            "2813/2813 [==============================] - 8s 3ms/step - loss: 0.1459 - accuracy: 0.5818 - val_loss: 0.1468 - val_accuracy: 0.5832\n",
            "Epoch 74/75\n",
            "2813/2813 [==============================] - 7s 3ms/step - loss: 0.1461 - accuracy: 0.5805 - val_loss: 0.1469 - val_accuracy: 0.5829\n",
            "Epoch 75/75\n",
            "2813/2813 [==============================] - 8s 3ms/step - loss: 0.1460 - accuracy: 0.5810 - val_loss: 0.1467 - val_accuracy: 0.5826\n"
          ],
          "name": "stdout"
        }
      ]
    },
    {
      "cell_type": "code",
      "metadata": {
        "colab": {
          "base_uri": "https://localhost:8080/",
          "height": 282
        },
        "id": "3PqSfsVchw4W",
        "outputId": "d483e88b-1727-4076-f942-2b9b36073700"
      },
      "source": [
        "pd.DataFrame(history.history).plot()"
      ],
      "execution_count": 49,
      "outputs": [
        {
          "output_type": "execute_result",
          "data": {
            "text/plain": [
              "<matplotlib.axes._subplots.AxesSubplot at 0x7fcebd0c86d0>"
            ]
          },
          "metadata": {
            "tags": []
          },
          "execution_count": 49
        },
        {
          "output_type": "display_data",
          "data": {
            "image/png": "[encoded data removed]",
            "text/plain": [
              "<Figure size 432x288 with 1 Axes>"
            ]
          },
          "metadata": {
            "tags": [],
            "needs_background": "light"
          }
        }
      ]
    },
    {
      "cell_type": "code",
      "metadata": {
        "id": "IgCHScx-r-RD"
      },
      "source": [
        "test = pd.read_csv(\"/content/test.csv\")"
      ],
      "execution_count": 39,
      "outputs": []
    },
    {
      "cell_type": "code",
      "metadata": {
        "id": "bDrOB76asT0Q"
      },
      "source": [
        "test = test.drop([\"id\"], axis = \"columns\")"
      ],
      "execution_count": 40,
      "outputs": []
    },
    {
      "cell_type": "code",
      "metadata": {
        "id": "zqjGS00HshNr"
      },
      "source": [
        "test = np.array(test)"
      ],
      "execution_count": 41,
      "outputs": []
    },
    {
      "cell_type": "code",
      "metadata": {
        "id": "gQHZwFD4tUHI"
      },
      "source": [
        "y_preds = model_6.predict(test)"
      ],
      "execution_count": 50,
      "outputs": []
    },
    {
      "cell_type": "code",
      "metadata": {
        "colab": {
          "base_uri": "https://localhost:8080/"
        },
        "id": "QyZ6zwmUtrS9",
        "outputId": "17dba43a-72bc-4706-e8ad-91319c67e34f"
      },
      "source": [
        "y_preds[0]"
      ],
      "execution_count": 51,
      "outputs": [
        {
          "output_type": "execute_result",
          "data": {
            "text/plain": [
              "array([0.12843923, 0.49565536, 0.30118546, 0.07471998], dtype=float32)"
            ]
          },
          "metadata": {
            "tags": []
          },
          "execution_count": 51
        }
      ]
    },
    {
      "cell_type": "code",
      "metadata": {
        "id": "nQUVS_Wptxue"
      },
      "source": [
        "abc = pd.DataFrame(y_preds).to_csv(\"yahooo.csv\")"
      ],
      "execution_count": 52,
      "outputs": []
    }
  ]
}